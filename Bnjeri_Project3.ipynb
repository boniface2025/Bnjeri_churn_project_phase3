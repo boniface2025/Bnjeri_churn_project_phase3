{
 "cells": [
  {
   "cell_type": "markdown",
   "id": "b379a825",
   "metadata": {},
   "source": [
    "**Institution Name:**   Moringa School\n",
    "\n",
    "**Course Pursued:**     Data Science\n",
    "\n",
    "**Phase/ Level:**       Three (3)\n",
    "\n",
    "**Project done by:**    Boniface Kimondo Njeri\n",
    "\n",
    "**TM Name:**            George Kamundia"
   ]
  },
  {
   "cell_type": "markdown",
   "id": "3a480ebc",
   "metadata": {},
   "source": [
    "# Early Detection of Imminent SyriaTel Churn Through Predictive Signal Analysis\n",
    "----"
   ]
  },
  {
   "cell_type": "markdown",
   "id": "2075981b",
   "metadata": {},
   "source": [
    "# Introduction\n",
    "This report details the end-to-end development of a machine learning classifier aimed at predicting customer churn for SyriaTel. The goal is to analyze usage patterns, service attributes, and customer behaviors to forecast whether a customer is likely to stop using SyriaTel services. Accurate predictions empower the business to intervene proactively—tailoring offers, support, or incentives to retain valuable customers before they exit."
   ]
  },
  {
   "cell_type": "markdown",
   "id": "3645859c",
   "metadata": {},
   "source": [
    "# Background of the Project\n",
    "In today’s highly competitive telecommunications market, customer retention plays a critical role in sustaining profitability. Studies have shown that acquiring a new customer can cost five to ten times more than retaining an existing one. For companies like SyriaTel, minimizing customer churn—when users discontinue their service—is not just a technical challenge but a strategic imperative.\n",
    "\n",
    "This project focuses on developing a machine learning-based churn prediction model to help SyriaTel identify customers at high risk of leaving. By flagging potential churners early, the company can implement targeted retention strategies, reduce revenue loss, and enhance customer satisfaction."
   ]
  },
  {
   "cell_type": "markdown",
   "id": "746a20d5",
   "metadata": {},
   "source": [
    "# Project Objectives\n",
    "**General Objective**\n",
    "To build a predictive system that identifies customers likely to churn, thereby supporting SyriaTel in making timely, data-driven retention decisions.\n",
    "\n",
    "**Specific Objectives**\n",
    "1. Develop a Binary Classification Model: Use customer data to classify users as likely to churn (True) or not (False).\n",
    "\n",
    "2. Support Retention Planning: Leverage model outputs to inform and optimize proactive customer retention strategies.\n",
    "\n",
    "3. Generate Business Insights: Analyze feature importance and model behavior to draw actionable conclusions that can influence service improvement and marketing approaches."
   ]
  },
  {
   "cell_type": "markdown",
   "id": "faecac80",
   "metadata": {},
   "source": [
    "## Importing Required Libraries\n",
    "\n",
    "In this section, we import the essential Python libraries required for data analysis, visualization, preprocessing, modeling, and evaluation.\n",
    "\n",
    "### Core Libraries:\n",
    "- **pandas**: Used for loading, manipulating, and analyzing structured data (e.g., DataFrames).\n",
    "- **numpy**: Provides support for numerical operations, especially array-based computations.\n",
    "\n",
    "### Visualization:\n",
    "- **matplotlib.pyplot**: The foundational library for plotting charts and visualizations.\n",
    "- **seaborn**: Built on top of matplotlib, provides more sophisticated and attractive statistical visualizations.\n",
    "\n",
    "### Machine Learning & Preprocessing (scikit-learn):\n",
    "- **train_test_split**: Splits the dataset into training and test subsets.\n",
    "- **LabelEncoder**: Converts categorical labels into numerical values.\n",
    "- **StandardScaler**: Standardizes features by removing the mean and scaling to unit variance.\n",
    "- **RandomForestClassifier**: An ensemble learning algorithm based on decision trees for classification tasks.\n",
    "- **classification_report**, **confusion_matrix**, **accuracy_score**: Tools to evaluate the performance of classification models.\n"
   ]
  },
  {
   "cell_type": "code",
   "execution_count": 38,
   "id": "3a27b223",
   "metadata": {},
   "outputs": [
    {
     "name": "stdout",
     "output_type": "stream",
     "text": [
      "All libraries imported successfully.\n"
     ]
    }
   ],
   "source": [
    "# Importing essential libraries for data handling, visualization, and modeling\n",
    "\n",
    "# Data manipulation\n",
    "import pandas as pd\n",
    "import numpy as np\n",
    "\n",
    "# Data visualization\n",
    "import matplotlib.pyplot as plt\n",
    "import seaborn as sns\n",
    "\n",
    "# Preprocessing and model selection\n",
    "from sklearn.model_selection import train_test_split\n",
    "from sklearn.preprocessing import LabelEncoder, StandardScaler\n",
    "\n",
    "# Machine learning algorithm\n",
    "from sklearn.ensemble import RandomForestClassifier\n",
    "\n",
    "# Evaluation metrics\n",
    "from sklearn.metrics import classification_report, confusion_matrix, accuracy_score\n",
    "\n",
    "# Configure matplotlib for inline plotting in notebooks\n",
    "%matplotlib inline\n",
    "\n",
    "# Set Seaborn style for better aesthetics\n",
    "sns.set(style=\"whitegrid\")\n",
    "\n",
    "print(\"All libraries imported successfully.\")"
   ]
  },
  {
   "cell_type": "markdown",
   "id": "49f66d04",
   "metadata": {},
   "source": [
    "## Loading the Dataset & Initial Inspection\n",
    "\n",
    "In this step, we load the dataset into a **Pandas DataFrame** from a CSV file and preview the first few records.\n",
    "\n",
    "### This aided:\n",
    "- To **understand the structure** of the dataset (rows, columns).\n",
    "- To identify **key features**, column names, and possible data types.\n",
    "- To quickly spot any **obvious data quality issues**, such as missing values or inconsistent formatting.\n",
    "\n",
    "**File Used**: `bigml_59c28831336c6604c800002a.csv`\n"
   ]
  },
  {
   "cell_type": "code",
   "execution_count": 39,
   "id": "e3fc18ef",
   "metadata": {},
   "outputs": [
    {
     "data": {
      "application/vnd.microsoft.datawrangler.viewer.v0+json": {
       "columns": [
        {
         "name": "index",
         "rawType": "int64",
         "type": "integer"
        },
        {
         "name": "state",
         "rawType": "object",
         "type": "string"
        },
        {
         "name": "account length",
         "rawType": "int64",
         "type": "integer"
        },
        {
         "name": "area code",
         "rawType": "int64",
         "type": "integer"
        },
        {
         "name": "phone number",
         "rawType": "object",
         "type": "string"
        },
        {
         "name": "international plan",
         "rawType": "object",
         "type": "string"
        },
        {
         "name": "voice mail plan",
         "rawType": "object",
         "type": "string"
        },
        {
         "name": "number vmail messages",
         "rawType": "int64",
         "type": "integer"
        },
        {
         "name": "total day minutes",
         "rawType": "float64",
         "type": "float"
        },
        {
         "name": "total day calls",
         "rawType": "int64",
         "type": "integer"
        },
        {
         "name": "total day charge",
         "rawType": "float64",
         "type": "float"
        },
        {
         "name": "total eve minutes",
         "rawType": "float64",
         "type": "float"
        },
        {
         "name": "total eve calls",
         "rawType": "int64",
         "type": "integer"
        },
        {
         "name": "total eve charge",
         "rawType": "float64",
         "type": "float"
        },
        {
         "name": "total night minutes",
         "rawType": "float64",
         "type": "float"
        },
        {
         "name": "total night calls",
         "rawType": "int64",
         "type": "integer"
        },
        {
         "name": "total night charge",
         "rawType": "float64",
         "type": "float"
        },
        {
         "name": "total intl minutes",
         "rawType": "float64",
         "type": "float"
        },
        {
         "name": "total intl calls",
         "rawType": "int64",
         "type": "integer"
        },
        {
         "name": "total intl charge",
         "rawType": "float64",
         "type": "float"
        },
        {
         "name": "customer service calls",
         "rawType": "int64",
         "type": "integer"
        },
        {
         "name": "churn",
         "rawType": "bool",
         "type": "boolean"
        }
       ],
       "ref": "b0af6906-b023-44c9-94cf-f47072769b9d",
       "rows": [
        [
         "0",
         "KS",
         "128",
         "415",
         "382-4657",
         "no",
         "yes",
         "25",
         "265.1",
         "110",
         "45.07",
         "197.4",
         "99",
         "16.78",
         "244.7",
         "91",
         "11.01",
         "10.0",
         "3",
         "2.7",
         "1",
         "False"
        ],
        [
         "1",
         "OH",
         "107",
         "415",
         "371-7191",
         "no",
         "yes",
         "26",
         "161.6",
         "123",
         "27.47",
         "195.5",
         "103",
         "16.62",
         "254.4",
         "103",
         "11.45",
         "13.7",
         "3",
         "3.7",
         "1",
         "False"
        ],
        [
         "2",
         "NJ",
         "137",
         "415",
         "358-1921",
         "no",
         "no",
         "0",
         "243.4",
         "114",
         "41.38",
         "121.2",
         "110",
         "10.3",
         "162.6",
         "104",
         "7.32",
         "12.2",
         "5",
         "3.29",
         "0",
         "False"
        ],
        [
         "3",
         "OH",
         "84",
         "408",
         "375-9999",
         "yes",
         "no",
         "0",
         "299.4",
         "71",
         "50.9",
         "61.9",
         "88",
         "5.26",
         "196.9",
         "89",
         "8.86",
         "6.6",
         "7",
         "1.78",
         "2",
         "False"
        ],
        [
         "4",
         "OK",
         "75",
         "415",
         "330-6626",
         "yes",
         "no",
         "0",
         "166.7",
         "113",
         "28.34",
         "148.3",
         "122",
         "12.61",
         "186.9",
         "121",
         "8.41",
         "10.1",
         "3",
         "2.73",
         "3",
         "False"
        ]
       ],
       "shape": {
        "columns": 21,
        "rows": 5
       }
      },
      "text/html": [
       "<div>\n",
       "<style scoped>\n",
       "    .dataframe tbody tr th:only-of-type {\n",
       "        vertical-align: middle;\n",
       "    }\n",
       "\n",
       "    .dataframe tbody tr th {\n",
       "        vertical-align: top;\n",
       "    }\n",
       "\n",
       "    .dataframe thead th {\n",
       "        text-align: right;\n",
       "    }\n",
       "</style>\n",
       "<table border=\"1\" class=\"dataframe\">\n",
       "  <thead>\n",
       "    <tr style=\"text-align: right;\">\n",
       "      <th></th>\n",
       "      <th>state</th>\n",
       "      <th>account length</th>\n",
       "      <th>area code</th>\n",
       "      <th>phone number</th>\n",
       "      <th>international plan</th>\n",
       "      <th>voice mail plan</th>\n",
       "      <th>number vmail messages</th>\n",
       "      <th>total day minutes</th>\n",
       "      <th>total day calls</th>\n",
       "      <th>total day charge</th>\n",
       "      <th>...</th>\n",
       "      <th>total eve calls</th>\n",
       "      <th>total eve charge</th>\n",
       "      <th>total night minutes</th>\n",
       "      <th>total night calls</th>\n",
       "      <th>total night charge</th>\n",
       "      <th>total intl minutes</th>\n",
       "      <th>total intl calls</th>\n",
       "      <th>total intl charge</th>\n",
       "      <th>customer service calls</th>\n",
       "      <th>churn</th>\n",
       "    </tr>\n",
       "  </thead>\n",
       "  <tbody>\n",
       "    <tr>\n",
       "      <th>0</th>\n",
       "      <td>KS</td>\n",
       "      <td>128</td>\n",
       "      <td>415</td>\n",
       "      <td>382-4657</td>\n",
       "      <td>no</td>\n",
       "      <td>yes</td>\n",
       "      <td>25</td>\n",
       "      <td>265.1</td>\n",
       "      <td>110</td>\n",
       "      <td>45.07</td>\n",
       "      <td>...</td>\n",
       "      <td>99</td>\n",
       "      <td>16.78</td>\n",
       "      <td>244.7</td>\n",
       "      <td>91</td>\n",
       "      <td>11.01</td>\n",
       "      <td>10.0</td>\n",
       "      <td>3</td>\n",
       "      <td>2.70</td>\n",
       "      <td>1</td>\n",
       "      <td>False</td>\n",
       "    </tr>\n",
       "    <tr>\n",
       "      <th>1</th>\n",
       "      <td>OH</td>\n",
       "      <td>107</td>\n",
       "      <td>415</td>\n",
       "      <td>371-7191</td>\n",
       "      <td>no</td>\n",
       "      <td>yes</td>\n",
       "      <td>26</td>\n",
       "      <td>161.6</td>\n",
       "      <td>123</td>\n",
       "      <td>27.47</td>\n",
       "      <td>...</td>\n",
       "      <td>103</td>\n",
       "      <td>16.62</td>\n",
       "      <td>254.4</td>\n",
       "      <td>103</td>\n",
       "      <td>11.45</td>\n",
       "      <td>13.7</td>\n",
       "      <td>3</td>\n",
       "      <td>3.70</td>\n",
       "      <td>1</td>\n",
       "      <td>False</td>\n",
       "    </tr>\n",
       "    <tr>\n",
       "      <th>2</th>\n",
       "      <td>NJ</td>\n",
       "      <td>137</td>\n",
       "      <td>415</td>\n",
       "      <td>358-1921</td>\n",
       "      <td>no</td>\n",
       "      <td>no</td>\n",
       "      <td>0</td>\n",
       "      <td>243.4</td>\n",
       "      <td>114</td>\n",
       "      <td>41.38</td>\n",
       "      <td>...</td>\n",
       "      <td>110</td>\n",
       "      <td>10.30</td>\n",
       "      <td>162.6</td>\n",
       "      <td>104</td>\n",
       "      <td>7.32</td>\n",
       "      <td>12.2</td>\n",
       "      <td>5</td>\n",
       "      <td>3.29</td>\n",
       "      <td>0</td>\n",
       "      <td>False</td>\n",
       "    </tr>\n",
       "    <tr>\n",
       "      <th>3</th>\n",
       "      <td>OH</td>\n",
       "      <td>84</td>\n",
       "      <td>408</td>\n",
       "      <td>375-9999</td>\n",
       "      <td>yes</td>\n",
       "      <td>no</td>\n",
       "      <td>0</td>\n",
       "      <td>299.4</td>\n",
       "      <td>71</td>\n",
       "      <td>50.90</td>\n",
       "      <td>...</td>\n",
       "      <td>88</td>\n",
       "      <td>5.26</td>\n",
       "      <td>196.9</td>\n",
       "      <td>89</td>\n",
       "      <td>8.86</td>\n",
       "      <td>6.6</td>\n",
       "      <td>7</td>\n",
       "      <td>1.78</td>\n",
       "      <td>2</td>\n",
       "      <td>False</td>\n",
       "    </tr>\n",
       "    <tr>\n",
       "      <th>4</th>\n",
       "      <td>OK</td>\n",
       "      <td>75</td>\n",
       "      <td>415</td>\n",
       "      <td>330-6626</td>\n",
       "      <td>yes</td>\n",
       "      <td>no</td>\n",
       "      <td>0</td>\n",
       "      <td>166.7</td>\n",
       "      <td>113</td>\n",
       "      <td>28.34</td>\n",
       "      <td>...</td>\n",
       "      <td>122</td>\n",
       "      <td>12.61</td>\n",
       "      <td>186.9</td>\n",
       "      <td>121</td>\n",
       "      <td>8.41</td>\n",
       "      <td>10.1</td>\n",
       "      <td>3</td>\n",
       "      <td>2.73</td>\n",
       "      <td>3</td>\n",
       "      <td>False</td>\n",
       "    </tr>\n",
       "  </tbody>\n",
       "</table>\n",
       "<p>5 rows × 21 columns</p>\n",
       "</div>"
      ],
      "text/plain": [
       "  state  account length  area code phone number international plan  \\\n",
       "0    KS             128        415     382-4657                 no   \n",
       "1    OH             107        415     371-7191                 no   \n",
       "2    NJ             137        415     358-1921                 no   \n",
       "3    OH              84        408     375-9999                yes   \n",
       "4    OK              75        415     330-6626                yes   \n",
       "\n",
       "  voice mail plan  number vmail messages  total day minutes  total day calls  \\\n",
       "0             yes                     25              265.1              110   \n",
       "1             yes                     26              161.6              123   \n",
       "2              no                      0              243.4              114   \n",
       "3              no                      0              299.4               71   \n",
       "4              no                      0              166.7              113   \n",
       "\n",
       "   total day charge  ...  total eve calls  total eve charge  \\\n",
       "0             45.07  ...               99             16.78   \n",
       "1             27.47  ...              103             16.62   \n",
       "2             41.38  ...              110             10.30   \n",
       "3             50.90  ...               88              5.26   \n",
       "4             28.34  ...              122             12.61   \n",
       "\n",
       "   total night minutes  total night calls  total night charge  \\\n",
       "0                244.7                 91               11.01   \n",
       "1                254.4                103               11.45   \n",
       "2                162.6                104                7.32   \n",
       "3                196.9                 89                8.86   \n",
       "4                186.9                121                8.41   \n",
       "\n",
       "   total intl minutes  total intl calls  total intl charge  \\\n",
       "0                10.0                 3               2.70   \n",
       "1                13.7                 3               3.70   \n",
       "2                12.2                 5               3.29   \n",
       "3                 6.6                 7               1.78   \n",
       "4                10.1                 3               2.73   \n",
       "\n",
       "   customer service calls  churn  \n",
       "0                       1  False  \n",
       "1                       1  False  \n",
       "2                       0  False  \n",
       "3                       2  False  \n",
       "4                       3  False  \n",
       "\n",
       "[5 rows x 21 columns]"
      ]
     },
     "execution_count": 39,
     "metadata": {},
     "output_type": "execute_result"
    }
   ],
   "source": [
    "# Load the dataset into a DataFrame\n",
    "df = pd.read_csv(\"bigml_59c28831336c6604c800002a.csv\")\n",
    "\n",
    "# Display the first 5 rows to examine the structure\n",
    "df.head()"
   ]
  },
  {
   "cell_type": "markdown",
   "id": "c4d04c4c",
   "metadata": {},
   "source": [
    "## Understanding the Dataset Structure & Statistical Summary\n",
    "\n",
    "To better understand the dataset, I conducted two key inspections:\n",
    "\n",
    "### Dataset Structure: `df.info()`\n",
    "- Displays all column names, data types, and the number of non-null (non-missing) values.\n",
    "- Helped identify:\n",
    "  - Which features are **categorical vs numerical**.\n",
    "  - Potential **missing data** that may need cleaning.\n",
    "  - Overall **shape and memory footprint** of the DataFrame.\n",
    "\n",
    "### Statistical Summary: `df.describe()`\n",
    "- Generates descriptive statistics for **numeric columns**, such as:\n",
    "  - **Mean**, **standard deviation**, **minimum**, **maximum**, and **quartile values**.\n",
    "- This was Useful for:\n",
    "  - Detecting **outliers or anomalies**.\n",
    "  - Understanding the **distribution** and **scale** of features.\n",
    "  - Informing **scaling** or **normalization** decisions before model training.\n",
    "\n"
   ]
  },
  {
   "cell_type": "code",
   "execution_count": 40,
   "id": "52ce1b0b",
   "metadata": {},
   "outputs": [
    {
     "name": "stdout",
     "output_type": "stream",
     "text": [
      "Dataset Structure info:\n",
      "\n",
      "<class 'pandas.core.frame.DataFrame'>\n",
      "RangeIndex: 3333 entries, 0 to 3332\n",
      "Data columns (total 21 columns):\n",
      " #   Column                  Non-Null Count  Dtype  \n",
      "---  ------                  --------------  -----  \n",
      " 0   state                   3333 non-null   object \n",
      " 1   account length          3333 non-null   int64  \n",
      " 2   area code               3333 non-null   int64  \n",
      " 3   phone number            3333 non-null   object \n",
      " 4   international plan      3333 non-null   object \n",
      " 5   voice mail plan         3333 non-null   object \n",
      " 6   number vmail messages   3333 non-null   int64  \n",
      " 7   total day minutes       3333 non-null   float64\n",
      " 8   total day calls         3333 non-null   int64  \n",
      " 9   total day charge        3333 non-null   float64\n",
      " 10  total eve minutes       3333 non-null   float64\n",
      " 11  total eve calls         3333 non-null   int64  \n",
      " 12  total eve charge        3333 non-null   float64\n",
      " 13  total night minutes     3333 non-null   float64\n",
      " 14  total night calls       3333 non-null   int64  \n",
      " 15  total night charge      3333 non-null   float64\n",
      " 16  total intl minutes      3333 non-null   float64\n",
      " 17  total intl calls        3333 non-null   int64  \n",
      " 18  total intl charge       3333 non-null   float64\n",
      " 19  customer service calls  3333 non-null   int64  \n",
      " 20  churn                   3333 non-null   bool   \n",
      "dtypes: bool(1), float64(8), int64(8), object(4)\n",
      "memory usage: 524.2+ KB\n",
      "\n",
      " Dataset Structure describe:\n",
      "\n",
      " Null values in each column:\n",
      "state                     0\n",
      "account length            0\n",
      "area code                 0\n",
      "phone number              0\n",
      "international plan        0\n",
      "voice mail plan           0\n",
      "number vmail messages     0\n",
      "total day minutes         0\n",
      "total day calls           0\n",
      "total day charge          0\n",
      "total eve minutes         0\n",
      "total eve calls           0\n",
      "total eve charge          0\n",
      "total night minutes       0\n",
      "total night calls         0\n",
      "total night charge        0\n",
      "total intl minutes        0\n",
      "total intl calls          0\n",
      "total intl charge         0\n",
      "customer service calls    0\n",
      "churn                     0\n",
      "dtype: int64\n"
     ]
    }
   ],
   "source": [
    "# Display dataset structure: column names, data types, and non-null counts\n",
    "print(\"Dataset Structure info:\\n\")\n",
    "df.info()\n",
    "\n",
    "# Display statistical summary of numeric columns\n",
    "print(\"\\n Dataset Structure describe:\")\n",
    "df.describe()\n",
    "\n",
    "#Display the null values in the dataset\n",
    "print(\"\\n Null values in each column:\")\n",
    "print(df.isnull().sum())    "
   ]
  },
  {
   "cell_type": "markdown",
   "id": "052e7be6",
   "metadata": {},
   "source": [
    "# Output Review: \n",
    "The initial output shows we have 3,333 entries and 20 columns. There are no null values, which is excellent. Our target variable, churn, is of type bool (True/False). All feature names are clear, but we should standardize the column formatting for consistency."
   ]
  },
  {
   "cell_type": "markdown",
   "id": "0cfe42f8",
   "metadata": {},
   "source": [
    "## Data Cleaning & Preprocessing\n",
    "\n",
    "A clean and well-prepared dataset is essential for building an accurate machine learning model. In this phase, I:\n",
    "\n",
    "### 1. Standardized Column Names\n",
    "- Converted column names to `snake_case` for consistency and easier access.\n",
    "\n",
    "### 2. Drop Irrelevant or Non-Predictive Columns\n",
    "- Features like `phone_number`, `state`, and `area_code` are either unique identifiers or unlikely to contribute meaningfully to the model’s predictive power.\n",
    "\n",
    "### 3. Convert Binary Categorical Variables\n",
    "- Converted `\"yes\"`/`\"no\"` strings in `international_plan` and `voice_mail_plan` columns into binary integers (`1` for \"yes\", `0` for \"no\").\n",
    "\n",
    "### 4. Encode Target Variable\n",
    "- The target column `churn` was converted from boolean to integer format for compatibility with machine learning algorithms.\n",
    "\n",
    "### 5. Visualize Class Balance\n",
    "- I Used a count plot to visualize whether the dataset is balanced across the target classes (`churned` vs `not churned`).\n"
   ]
  },
  {
   "cell_type": "code",
   "execution_count": 41,
   "id": "570cea10",
   "metadata": {},
   "outputs": [
    {
     "name": "stdout",
     "output_type": "stream",
     "text": [
      "Cleaned column names: ['account_length', 'international_plan', 'voice_mail_plan', 'number_vmail_messages', 'total_day_minutes', 'total_day_calls', 'total_day_charge', 'total_eve_minutes', 'total_eve_calls', 'total_eve_charge', 'total_night_minutes', 'total_night_calls', 'total_night_charge', 'total_intl_minutes', 'total_intl_calls', 'total_intl_charge', 'customer_service_calls', 'churn']\n",
      "\n",
      " Data types after conversion:\n",
      "<class 'pandas.core.frame.DataFrame'>\n",
      "RangeIndex: 3333 entries, 0 to 3332\n",
      "Data columns (total 3 columns):\n",
      " #   Column              Non-Null Count  Dtype\n",
      "---  ------              --------------  -----\n",
      " 0   international_plan  3333 non-null   int64\n",
      " 1   voice_mail_plan     3333 non-null   int64\n",
      " 2   churn               3333 non-null   int32\n",
      "dtypes: int32(1), int64(2)\n",
      "memory usage: 65.2 KB\n",
      "None\n"
     ]
    }
   ],
   "source": [
    "import pandas as pd\n",
    "import numpy as np\n",
    "import seaborn as sns\n",
    "import matplotlib.pyplot as plt\n",
    "from sklearn.preprocessing import LabelEncoder\n",
    "\n",
    "# Standardize column names to snake_case\n",
    "df.columns = df.columns.str.lower().str.replace(' ', '_')\n",
    "\n",
    "# Drop irrelevant columns\n",
    "df.drop(['state', 'area_code', 'phone_number'], axis=1, inplace=True)\n",
    "\n",
    "# Convert binary categorical features to numerical (0/1)\n",
    "for col in ['international_plan', 'voice_mail_plan']:\n",
    "    if df[col].dtype == 'object':\n",
    "        df[col] = df[col].apply(lambda x: 1 if x.lower() == 'yes' else 0)\n",
    "\n",
    "# Convert target variable to integer\n",
    "df['churn'] = df['churn'].astype(int)\n",
    "\n",
    "# Confirm transformations\n",
    "print(\"Cleaned column names:\", df.columns.tolist())\n",
    "print(\"\\n Data types after conversion:\")\n",
    "print(df[['international_plan', 'voice_mail_plan', 'churn']].info())\n"
   ]
  },
  {
   "cell_type": "markdown",
   "id": "3cd86253",
   "metadata": {},
   "source": [
    "## Exploratory Data Analysis (EDA)\n",
    "\n",
    "The goal of EDA is to uncover meaningful patterns, trends, and relationships within the dataset—especially factors that influence customer churn. This step guides feature selection, model design, and business decisions.\n",
    "\n",
    "I begin by analyzing the target variable (`churn`) and then examined how key features interacted with churn behavior.\n",
    "\n",
    "### Analyzing the Target Variable: `churn`\n",
    "\n",
    "Before diving into predictors, I examined the distribution of the target variable to understand class balance.\n",
    "\n",
    "- **Why this matters:** A highly imbalanced dataset can mislead performance metrics like accuracy.\n",
    "- **Goal:** To determine whether the number of churned vs. retained customers is balanced, and quantify the churn rate.\n"
   ]
  },
  {
   "cell_type": "code",
   "execution_count": 42,
   "id": "0672362c",
   "metadata": {},
   "outputs": [
    {
     "data": {
      "image/png": "[encoded data removed]",
      "text/plain": [
       "<Figure size 700x500 with 1 Axes>"
      ]
     },
     "metadata": {},
     "output_type": "display_data"
    }
   ],
   "source": [
    "import os\n",
    "\n",
    "# Create a folder named \"visuals\" to save all plots\n",
    "if not os.path.exists(\"visuals\"):\n",
    "    os.makedirs(\"visuals\")\n",
    "    \n",
    "# Visualize the distribution of the target variable 'churn'\n",
    "plt.figure(figsize=(7, 5))\n",
    "ax = sns.countplot(x='churn', data=df, palette='pastel')\n",
    "plt.title('Overall Customer Churn Distribution', fontsize=16)\n",
    "plt.xlabel('Churn Status', fontsize=12)\n",
    "plt.ylabel('Number of Customers', fontsize=12)\n",
    "plt.xticks(ticks=[0, 1], labels=['Retained', 'Churned'])\n",
    "\n",
    "# Annotate bars with percentage values\n",
    "total = len(df)\n",
    "for p in ax.patches:\n",
    "    percentage = f'{(p.get_height() / total) * 100:.1f}%'\n",
    "    x = p.get_x() + p.get_width() / 2\n",
    "    y = p.get_height()\n",
    "    ax.annotate(percentage, (x, y), ha='center', va='bottom', fontsize=12, color='black')\n",
    "\n",
    "# Save the figure\n",
    "plt.tight_layout()\n",
    "plt.savefig(\"visuals/churn_distribution.png\")\n",
    "plt.show()\n"
   ]
  },
  {
   "cell_type": "markdown",
   "id": "f745ebe8",
   "metadata": {},
   "source": [
    "**Finding:**\n",
    "The dataset was imbalanced, with only **~14.5%** of customers having churned. This is a critical insight. A naïve model that predicts \"no churn\" for every user would still achieve high accuracy (~85.5%), but it would be useless in identifying actual churners.\n",
    "\n",
    "Therefore, I had to evaluate the models using the following metrics instead of relying on accuracy alone:\n",
    "- **Precision**\n",
    "- **Recall**\n",
    "- **F1-score**\n",
    "- **AUC-ROC**\n",
    "\n",
    "\n"
   ]
  },
  {
   "cell_type": "markdown",
   "id": "cd07cd09",
   "metadata": {},
   "source": [
    "## Churn vs. Customer Service Calls\n",
    "\n",
    "I explored how often customers contact customer service and how this correlates with churn. Intuitively, frequent service calls may indicate dissatisfaction a possible churn trigger.\n"
   ]
  },
  {
   "cell_type": "code",
   "execution_count": 43,
   "id": "d0227ebd",
   "metadata": {},
   "outputs": [
    {
     "data": {
      "image/png": "[encoded data removed]",
      "text/plain": [
       "<Figure size 1000x600 with 1 Axes>"
      ]
     },
     "metadata": {},
     "output_type": "display_data"
    }
   ],
   "source": [
    "# Convert churn column to string to avoid legend errors\n",
    "df['churn'] = df['churn'].astype(str)\n",
    "\n",
    "# Plot\n",
    "plt.figure(figsize=(10, 6))\n",
    "ax = sns.countplot(x='customer_service_calls', hue='churn', data=df, palette='pastel')\n",
    "\n",
    "# Add title and labels\n",
    "plt.title('Churn by Number of Customer Service Calls', fontsize=16)\n",
    "plt.xlabel('Number of Customer Service Calls', fontsize=12)\n",
    "plt.ylabel('Number of Customers', fontsize=12)\n",
    "\n",
    "# Custom legend labels\n",
    "handles, labels = ax.get_legend_handles_labels()\n",
    "ax.legend(handles, ['Retained' if lbl == '0' else 'Churned' for lbl in labels], title='Churn')\n",
    "\n",
    "plt.show()\n"
   ]
  },
  {
   "cell_type": "markdown",
   "id": "a0fc0a67",
   "metadata": {},
   "source": [
    "## Churn vs. International Plan\n",
    "\n",
    "I examined whether having an international calling plan influenced churn. It’s plausible that dissatisfaction with international service quality or pricing could impact customer retention.\n"
   ]
  },
  {
   "cell_type": "code",
   "execution_count": 44,
   "id": "0cfc500a",
   "metadata": {},
   "outputs": [
    {
     "data": {
      "image/png": "[encoded data removed]",
      "text/plain": [
       "<Figure size 800x600 with 1 Axes>"
      ]
     },
     "metadata": {},
     "output_type": "display_data"
    }
   ],
   "source": [
    "plt.figure(figsize=(8, 6))\n",
    "sns.countplot(x='international_plan', hue='churn', data=df, palette='pastel')\n",
    "plt.title('Churn by International Plan Status', fontsize=16)\n",
    "plt.xlabel('Has International Plan', fontsize=12)\n",
    "plt.ylabel('Number of Customers', fontsize=12)\n",
    "plt.xticks(ticks=[0, 1], labels=['No', 'Yes'])\n",
    "plt.legend(title='Churn', labels=['Retained', 'Churned'])\n",
    "\n",
    "# Save the figure\n",
    "plt.tight_layout()\n",
    "plt.savefig(\"visuals/churn_vs_international_plan.png\")\n",
    "plt.show()\n"
   ]
  },
  {
   "cell_type": "markdown",
   "id": "b3963ebb",
   "metadata": {},
   "source": [
    "### **Findings:**\n",
    "\n",
    "Customers with an international plan had a markedly higher churn rate. This could indicate:\n",
    "- Poor perceived value of the plan\n",
    "- Hidden costs or unexpected billing\n",
    "- Service quality issues\n",
    "\n",
    "This segment needs urgent review. Offering better value or enhancing service quality for international callers could improve retention.\n"
   ]
  },
  {
   "cell_type": "markdown",
   "id": "19305e49",
   "metadata": {},
   "source": [
    "## **Model Development and Training**"
   ]
  },
  {
   "cell_type": "markdown",
   "id": "6d57931e",
   "metadata": {},
   "source": [
    "I constructed and trained a machine learning model to predict customer churn. Using the Random Forest algorithm, the model learns from historical data to identify patterns that distinguish churned customers from retained ones. The dataset was first split into training and testing subsets, followed by feature scaling to standardize input values. Once prepared, the model was trained on the training data and later evaluated on the test set to assess its predictive performance.\n",
    "Steps followed are:"
   ]
  },
  {
   "cell_type": "markdown",
   "id": "0abce901",
   "metadata": {},
   "source": [
    "**Step 1: Splitting Features and Target Variable**\n",
    "\n",
    "I began by splitting the dataset into:\n",
    "Features (X): All columns except churn,\n",
    "Target (y): The churn column, which we are trying to predict."
   ]
  },
  {
   "cell_type": "code",
   "execution_count": 45,
   "id": "6076f800",
   "metadata": {},
   "outputs": [],
   "source": [
    "# Separate features and target variable\n",
    "X = df.drop('churn', axis=1)\n",
    "y = df['churn']\n"
   ]
  },
  {
   "cell_type": "markdown",
   "id": "aba8c59e",
   "metadata": {},
   "source": [
    "**Step 2: Train-Test Split**\n",
    "\n",
    "We split the dataset into:\n",
    "Training set (70%): Used to train the model.\n",
    "Testing set (30%): Used to evaluate how well the model performs on unseen data,\n",
    "A fixed random_state ensures reproducibility."
   ]
  },
  {
   "cell_type": "code",
   "execution_count": 46,
   "id": "c8b063ab",
   "metadata": {},
   "outputs": [],
   "source": [
    "from sklearn.model_selection import train_test_split\n",
    "\n",
    "# Split data into training and testing sets (70/30 split)\n",
    "X_train, X_test, y_train, y_test = train_test_split(\n",
    "    X, y, test_size=0.3, random_state=42\n",
    ")\n"
   ]
  },
  {
   "cell_type": "markdown",
   "id": "df783c41",
   "metadata": {},
   "source": [
    "**Step 3: Feature Scaling (Standardization)**\n",
    "\n",
    "Standardizing the features ensures that each one contributes equally to the model. It transforms the data to have:\n",
    "\n",
    "A mean of 0\n",
    "\n",
    "A standard deviation of 1\n",
    "\n",
    "This step is especially important for algorithms sensitive to feature magnitude."
   ]
  },
  {
   "cell_type": "code",
   "execution_count": 47,
   "id": "d7ecbb3b",
   "metadata": {},
   "outputs": [],
   "source": [
    "from sklearn.preprocessing import StandardScaler\n",
    "\n",
    "# Initialize and apply standard scaler\n",
    "scaler = StandardScaler()\n",
    "X_train = scaler.fit_transform(X_train)  # Fit on train, transform train\n",
    "X_test = scaler.transform(X_test)        # Transform test only\n"
   ]
  },
  {
   "cell_type": "markdown",
   "id": "554ad964",
   "metadata": {},
   "source": [
    "**Step 4: Building the Model (Random Forest)**\n",
    "We use a Random Forest Classifier, which builds multiple decision trees (100 in this case) and averages their predictions. This ensemble method improves generalization and reduces overfitting."
   ]
  },
  {
   "cell_type": "code",
   "execution_count": 48,
   "id": "1160fc2a",
   "metadata": {},
   "outputs": [
    {
     "data": {
      "text/html": [
       "<style>#sk-container-id-1 {color: black;background-color: white;}#sk-container-id-1 pre{padding: 0;}#sk-container-id-1 div.sk-toggleable {background-color: white;}#sk-container-id-1 label.sk-toggleable__label {cursor: pointer;display: block;width: 100%;margin-bottom: 0;padding: 0.3em;box-sizing: border-box;text-align: center;}#sk-container-id-1 label.sk-toggleable__label-arrow:before {content: \"▸\";float: left;margin-right: 0.25em;color: #696969;}#sk-container-id-1 label.sk-toggleable__label-arrow:hover:before {color: black;}#sk-container-id-1 div.sk-estimator:hover label.sk-toggleable__label-arrow:before {color: black;}#sk-container-id-1 div.sk-toggleable__content {max-height: 0;max-width: 0;overflow: hidden;text-align: left;background-color: #f0f8ff;}#sk-container-id-1 div.sk-toggleable__content pre {margin: 0.2em;color: black;border-radius: 0.25em;background-color: #f0f8ff;}#sk-container-id-1 input.sk-toggleable__control:checked~div.sk-toggleable__content {max-height: 200px;max-width: 100%;overflow: auto;}#sk-container-id-1 input.sk-toggleable__control:checked~label.sk-toggleable__label-arrow:before {content: \"▾\";}#sk-container-id-1 div.sk-estimator input.sk-toggleable__control:checked~label.sk-toggleable__label {background-color: #d4ebff;}#sk-container-id-1 div.sk-label input.sk-toggleable__control:checked~label.sk-toggleable__label {background-color: #d4ebff;}#sk-container-id-1 input.sk-hidden--visually {border: 0;clip: rect(1px 1px 1px 1px);clip: rect(1px, 1px, 1px, 1px);height: 1px;margin: -1px;overflow: hidden;padding: 0;position: absolute;width: 1px;}#sk-container-id-1 div.sk-estimator {font-family: monospace;background-color: #f0f8ff;border: 1px dotted black;border-radius: 0.25em;box-sizing: border-box;margin-bottom: 0.5em;}#sk-container-id-1 div.sk-estimator:hover {background-color: #d4ebff;}#sk-container-id-1 div.sk-parallel-item::after {content: \"\";width: 100%;border-bottom: 1px solid gray;flex-grow: 1;}#sk-container-id-1 div.sk-label:hover label.sk-toggleable__label {background-color: #d4ebff;}#sk-container-id-1 div.sk-serial::before {content: \"\";position: absolute;border-left: 1px solid gray;box-sizing: border-box;top: 0;bottom: 0;left: 50%;z-index: 0;}#sk-container-id-1 div.sk-serial {display: flex;flex-direction: column;align-items: center;background-color: white;padding-right: 0.2em;padding-left: 0.2em;position: relative;}#sk-container-id-1 div.sk-item {position: relative;z-index: 1;}#sk-container-id-1 div.sk-parallel {display: flex;align-items: stretch;justify-content: center;background-color: white;position: relative;}#sk-container-id-1 div.sk-item::before, #sk-container-id-1 div.sk-parallel-item::before {content: \"\";position: absolute;border-left: 1px solid gray;box-sizing: border-box;top: 0;bottom: 0;left: 50%;z-index: -1;}#sk-container-id-1 div.sk-parallel-item {display: flex;flex-direction: column;z-index: 1;position: relative;background-color: white;}#sk-container-id-1 div.sk-parallel-item:first-child::after {align-self: flex-end;width: 50%;}#sk-container-id-1 div.sk-parallel-item:last-child::after {align-self: flex-start;width: 50%;}#sk-container-id-1 div.sk-parallel-item:only-child::after {width: 0;}#sk-container-id-1 div.sk-dashed-wrapped {border: 1px dashed gray;margin: 0 0.4em 0.5em 0.4em;box-sizing: border-box;padding-bottom: 0.4em;background-color: white;}#sk-container-id-1 div.sk-label label {font-family: monospace;font-weight: bold;display: inline-block;line-height: 1.2em;}#sk-container-id-1 div.sk-label-container {text-align: center;}#sk-container-id-1 div.sk-container {/* jupyter's `normalize.less` sets `[hidden] { display: none; }` but bootstrap.min.css set `[hidden] { display: none !important; }` so we also need the `!important` here to be able to override the default hidden behavior on the sphinx rendered scikit-learn.org. See: https://github.com/scikit-learn/scikit-learn/issues/21755 */display: inline-block !important;position: relative;}#sk-container-id-1 div.sk-text-repr-fallback {display: none;}</style><div id=\"sk-container-id-1\" class=\"sk-top-container\"><div class=\"sk-text-repr-fallback\"><pre>RandomForestClassifier(random_state=42)</pre><b>In a Jupyter environment, please rerun this cell to show the HTML representation or trust the notebook. <br />On GitHub, the HTML representation is unable to render, please try loading this page with nbviewer.org.</b></div><div class=\"sk-container\" hidden><div class=\"sk-item\"><div class=\"sk-estimator sk-toggleable\"><input class=\"sk-toggleable__control sk-hidden--visually\" id=\"sk-estimator-id-1\" type=\"checkbox\" checked><label for=\"sk-estimator-id-1\" class=\"sk-toggleable__label sk-toggleable__label-arrow\">RandomForestClassifier</label><div class=\"sk-toggleable__content\"><pre>RandomForestClassifier(random_state=42)</pre></div></div></div></div></div>"
      ],
      "text/plain": [
       "RandomForestClassifier(random_state=42)"
      ]
     },
     "execution_count": 48,
     "metadata": {},
     "output_type": "execute_result"
    }
   ],
   "source": [
    "from sklearn.ensemble import RandomForestClassifier\n",
    "\n",
    "# Initialize and train the Random Forest model\n",
    "model = RandomForestClassifier(n_estimators=100, random_state=42)\n",
    "model.fit(X_train, y_train)\n"
   ]
  },
  {
   "cell_type": "markdown",
   "id": "7cabf9bf",
   "metadata": {},
   "source": [
    "**Step 5: Encoding Categorical Features**\n",
    "\n",
    "Before training  I converted categorical columns such as \"international plan and Voice Plan\" into numeric format using Label Encoding, as most machine learning models do not accept string inputs:\n",
    "\n",
    "\n"
   ]
  },
  {
   "cell_type": "code",
   "execution_count": 51,
   "id": "19263e06",
   "metadata": {},
   "outputs": [],
   "source": [
    "from sklearn.preprocessing import LabelEncoder\n",
    "\n",
    "# Encode categorical features\n",
    "df['international_plan'] = LabelEncoder().fit_transform(df['international_plan'])\n",
    "df['voice_mail_plan'] = LabelEncoder().fit_transform(df['voice_mail_plan'])\n"
   ]
  },
  {
   "cell_type": "markdown",
   "id": "5bed27d5",
   "metadata": {},
   "source": [
    "**Step 6: Making Predictions**\n",
    "\n",
    "After the model was trained, I used it to make predictions on the test set."
   ]
  },
  {
   "cell_type": "code",
   "execution_count": 52,
   "id": "d817f363",
   "metadata": {},
   "outputs": [],
   "source": [
    "# Predict churn on test data\n",
    "y_pred = model.predict(X_test)\n"
   ]
  },
  {
   "cell_type": "markdown",
   "id": "6165c56c",
   "metadata": {},
   "source": [
    "**Step 7: Model Evaluation**\n",
    "\n",
    "I evaluated the model performance using multiple metrics:\n",
    "\n",
    "Accuracy Score: Overall correct predictions.\n",
    "\n",
    "Confusion Matrix: Breakdown of actual vs. predicted.\n",
    "\n",
    "Classification Report: Precision, recall, F1-score.\n",
    "\n",
    "These metrics are essential, especially since churn is an imbalanced problem."
   ]
  },
  {
   "cell_type": "code",
   "execution_count": 53,
   "id": "0e9d2034",
   "metadata": {},
   "outputs": [
    {
     "name": "stdout",
     "output_type": "stream",
     "text": [
      "Classification Report:\n",
      "               precision    recall  f1-score   support\n",
      "\n",
      "           0       0.95      0.99      0.97       857\n",
      "           1       0.94      0.71      0.81       143\n",
      "\n",
      "    accuracy                           0.95      1000\n",
      "   macro avg       0.95      0.85      0.89      1000\n",
      "weighted avg       0.95      0.95      0.95      1000\n",
      "\n",
      "Confusion Matrix:\n",
      " [[851   6]\n",
      " [ 42 101]]\n",
      "Accuracy Score: 0.952\n"
     ]
    }
   ],
   "source": [
    "from sklearn.metrics import classification_report, confusion_matrix, accuracy_score\n",
    "\n",
    "# Print evaluation metrics\n",
    "print(\"Classification Report:\\n\", classification_report(y_test, y_pred))\n",
    "print(\"Confusion Matrix:\\n\", confusion_matrix(y_test, y_pred))\n",
    "print(\"Accuracy Score:\", accuracy_score(y_test, y_pred))\n"
   ]
  },
  {
   "cell_type": "markdown",
   "id": "3175ad3a",
   "metadata": {},
   "source": [
    "# Interpretation of the model’s evaluation output:\n",
    "\n",
    "**Classification Report**\n",
    "| Class | Precision | Recall | F1-score | Support |\n",
    "|-------|-----------|--------|----------|---------|\n",
    "| 0 (Not Churn) | 0.95 | 0.99 | 0.97 | 857 |\n",
    "| 1 (Churn)     | 0.94 | 0.71 | 0.81 | 143 |\n",
    "\n",
    "- **Precision**: Out of all customers predicted as churners, 94% were actually churners. For non-churners, 95% were correctly identified.\n",
    "- **Recall**: The model correctly identified 99% of non-churners, but only 71% of actual churners. This means some churners were missed (false negatives).\n",
    "- **F1-score**: The balance between precision and recall. Higher for non-churners (0.97) than churners (0.81).\n",
    "- **Support**: There are 857 non-churners and 143 churners in the test set.\n",
    "\n",
    "**Confusion Matrix**\n",
    "```\n",
    "[[851   6]\n",
    " [ 42 101]]\n",
    "```\n",
    "- **851** true negatives: non-churners correctly predicted.\n",
    "- **101** true positives: churners correctly predicted.\n",
    "- **6** false positives: non-churners incorrectly predicted as churners.\n",
    "- **42** false negatives: churners missed by the model.\n",
    "\n",
    "**Accuracy**\n",
    "- **0.952** (95.2%): The model correctly predicted 952 out of 1000 cases.\n",
    "\n",
    "**Model Performance Summary**\n",
    "- The model is very good at identifying non-churners (class 0).\n",
    "- It is fairly good at identifying churners (class 1), but misses some (recall for churners is 0.71).\n",
    "- Overall accuracy is high (95.2%).\n",
    "- For business: The model is reliable for flagging customers likely to stay, but some churners may not be detected. Consider improving recall for churners if reducing churn is a top priority."
   ]
  },
  {
   "cell_type": "markdown",
   "id": "b02e95ec",
   "metadata": {},
   "source": [
    "\n",
    "***The project set out to accomplish the below objectives:***\n",
    "1. Develop an accurate churn-detection model (using Random Forest) capable of classifying customers as either likely to churn or likely to remain.\n",
    "2. Uncover treatment strategies: Use model outputs to guide proactive retention efforts—such as targeted offers, service upgrades, or personalized communications.\n",
    "\n",
    "\n",
    "**Summary Results**\n",
    "\n",
    "The Random Forest model delivered strong predictive performance, with its classification report clearly showing how effectively it distinguishes between customers who will churn and those who will stay. This insight enables SyriaTel to act proactively—offering tailored incentives, upgrading service quality, or launching personalized engagement campaigns for customers at high risk of leaving.\n",
    "\n",
    "\n",
    "**Conclusion & Recommendations**\n",
    "\n",
    "The Random Forest classifier not only achieves strong accuracy but also provides actionable intelligence. By identifying high-risk customers, SyriaTel can intervene early—minimizing churn through focused incentives, service improvements, and personalized engagement strategies.\n",
    "\n",
    "\n",
    "After a customer cancels, send a short exit survey (just a few quick questions) or follow up with phone interviews for key customers. This lets you understand why they left—whether it’s price, service, billing, or something else—and use those insights to improve your retention model and service offerings.\n",
    "\n",
    "Then, review patterns in why people churn and tweak your messaging, onboarding, or support accordingly. Focus especially on customers flagged as high-risk—update how you communicate with them, what you offer, and how you help them—so future campaigns keep more people from leaving.\n"
   ]
  }
 ],
 "metadata": {
  "kernelspec": {
   "display_name": "base",
   "language": "python",
   "name": "python3"
  },
  "language_info": {
   "codemirror_mode": {
    "name": "ipython",
    "version": 3
   },
   "file_extension": ".py",
   "mimetype": "text/x-python",
   "name": "python",
   "nbconvert_exporter": "python",
   "pygments_lexer": "ipython3",
   "version": "3.11.7"
  }
 },
 "nbformat": 4,
 "nbformat_minor": 5
}
