{
 "cells": [
  {
   "cell_type": "markdown",
   "id": "b379a825",
   "metadata": {},
   "source": [
    "### ***Institution Name:*** Moringa School\n",
    "### ***Course Pursued:*** Data Science\n",
    "### ***Phase/ Level:*** Three (3)\n",
    "# ***Project done by:*** Boniface Kimondo Njeri"
   ]
  },
  {
   "cell_type": "markdown",
   "id": "3a480ebc",
   "metadata": {},
   "source": [
    "# Early Detection of Imminent SyriaTel Churn Through Predictive Signal Analysis\n",
    "----"
   ]
  },
  {
   "cell_type": "markdown",
   "id": "3645859c",
   "metadata": {},
   "source": [
    "## **Introduction**\n",
    "This report presents the development of a machine learning classifier to predict customer churn for SyriaTel, a telecommunications company. The primary objective is to identify patterns that can help predict whether a customer will discontinue using the company's services. Early identification of such customers enables SyriaTel to take proactive measures to retain them.\n",
    "## General Objective of the Project: \n",
    "To create a classifier that identifies customers likely to discontinue SyriaTel services in the near term—enabling proactive retention actions before cancellation occurs?\n",
    "## Specific Objective: \n",
    "1. Build a binary classification model to predict whether a customer will churn (`True`) or not (`False`) using customer usage and service-related data.\n",
    "2. Uncover treatment strategies: Use model outputs to guide proactive retention efforts.\n",
    "3. Draw business conclusions based on the model analysis"
   ]
  }
 ],
 "metadata": {
  "kernelspec": {
   "display_name": "base",
   "language": "python",
   "name": "python3"
  },
  "language_info": {
   "name": "python",
   "version": "3.11.7"
  }
 },
 "nbformat": 4,
 "nbformat_minor": 5
}
